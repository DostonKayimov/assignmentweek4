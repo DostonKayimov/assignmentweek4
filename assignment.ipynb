{
 "cells": [
  {
   "cell_type": "code",
   "execution_count": 1,
   "metadata": {},
   "outputs": [
    {
     "name": "stdout",
     "output_type": "stream",
     "text": [
      "This is the STARK ACADEMY official website\n",
      "Could you enter your username, please?\n",
      "Doston\n",
      "This is the STARK ACADEMY official website\n",
      "Could you enter your username, please?\n",
      "Sarah\n",
      "Welcome Sarah! Password please!\n",
      "moonlight\n",
      "Successfully logged in, Sarah. I wish you happy learning!\n"
     ]
    }
   ],
   "source": [
    "while True:\n",
    "\n",
    "    print(\"This is the STARK ACADEMY official website\")\n",
    "    print(\"Could you enter your username, please?\")\n",
    "\n",
    "    username = input()\n",
    "    if username != \"Bill\" and username != \"Jon\" and username != \"Sarah\" and username != \"Giny\":\n",
    "        continue\n",
    "    print(f\"Welcome {username}! Password please!\")\n",
    "    password = input()\n",
    "    if password == \"moonlight\":\n",
    "        break\n",
    "print(f\"Successfully logged in, {username}. I wish you happy learning!\")"
   ]
  }
 ],
 "metadata": {
  "kernelspec": {
   "display_name": "Python 3",
   "language": "python",
   "name": "python3"
  },
  "language_info": {
   "codemirror_mode": {
    "name": "ipython",
    "version": 3
   },
   "file_extension": ".py",
   "mimetype": "text/x-python",
   "name": "python",
   "nbconvert_exporter": "python",
   "pygments_lexer": "ipython3",
   "version": "3.8.5"
  }
 },
 "nbformat": 4,
 "nbformat_minor": 4
}
